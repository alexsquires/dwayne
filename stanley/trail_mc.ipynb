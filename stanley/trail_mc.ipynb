{
 "cells": [
  {
   "cell_type": "code",
   "execution_count": 2,
   "metadata": {},
   "outputs": [
    {
     "name": "stdout",
     "output_type": "stream",
     "text": [
      "icet: WARNING  High volumetric strain (-75.00 %). Consider excluding this structure when training a cluster expansion.\n",
      "icet: WARNING  Large average relaxation distance (0.76906 Angstrom). Consider excluding this structure when training a cluster expansion.\n"
     ]
    },
    {
     "name": "stderr",
     "output_type": "stream",
     "text": [
      "/Users/alex/work/tracy/tracy/localenv.py:119: UserWarning: Some of the tetrahedral sites does not have four closest neiboroughs.\n",
      "  warnings.warn(\n"
     ]
    }
   ],
   "source": [
    "from icet import ClusterExpansion\n",
    "from icet.tools.structure_generation import occupy_structure_randomly\n",
    "\n",
    "ce = ClusterExpansion.read(\"../../production_rocksalts/AllRocksalts/LMOF/CEFitting/FittingFiles/cluster_expansion.ce\")\n",
    "prim = ce.primitive_structure\n",
    "prim = prim.repeat(6)\n",
    "occupy_structure_randomly(prim, ce.get_cluster_space_copy(), {\"B\" : {\"Mn\" : 1/3, \"Li\": 2/3}, \"A\" : {\"O\" : 1, \"F\": 0}})\n",
    "\n",
    "from mchammer.calculators import ClusterExpansionCalculator\n",
    "from mchammer.ensembles import CanonicalEnsemble\n",
    "from observers import PercolationObserver, NTMObserver, LocalEnvObserver\n",
    "from ase import  Atom\n",
    "from icet.tools import map_structure_to_reference\n",
    "\n",
    "def get_tetra_centers(atoms, prim):\n",
    "    prim.append(Atom(\"X\"))\n",
    "    prim.append(Atom(\"X\"))\n",
    "    prim.set_scaled_positions([[0, 0, 0], [0.5, 0.5, 0.5], [0.25, 0.25, 0.25], [0.75, 0.75, 0.75]])\n",
    "     \n",
    "    inert_species = list(set(atoms.symbols))\n",
    "    mapping = map_structure_to_reference(atoms, prim, inert_species=inert_species)[0]\n",
    "    tetra_centres = [i.position for i in mapping if i.symbol == \"X\"]\n",
    "    return tetra_centres\n",
    "\n",
    "s = get_tetra_centers(prim, ce.primitive_structure)\n",
    "ce_calc = ClusterExpansionCalculator(prim, ce)\n",
    "mc = CanonicalEnsemble(prim, ce_calc, temperature = 1273)\n",
    "mc.attach_observer(PercolationObserver(prim, s, background_species=[\"O\", \"F\"]))\n",
    "# mc.attach_observer(NTMObserver(prim, s, background_species=[\"O\", \"F\"]))\n",
    "mc.attach_observer(LocalEnvObserver(prim, []))\n",
    "\n",
    "\n",
    "\n",
    "\n",
    "\n"
   ]
  },
  {
   "cell_type": "code",
   "execution_count": 3,
   "metadata": {},
   "outputs": [
    {
     "ename": "IndexError",
     "evalue": "index 1670 is out of bounds for axis 0 with size 432",
     "output_type": "error",
     "traceback": [
      "\u001b[0;31m---------------------------------------------------------------------------\u001b[0m",
      "\u001b[0;31mIndexError\u001b[0m                                Traceback (most recent call last)",
      "\u001b[1;32m/Users/alex/work/tracy/tracy/trail_mc.ipynb Cell 2'\u001b[0m in \u001b[0;36m<cell line: 1>\u001b[0;34m()\u001b[0m\n\u001b[0;32m----> <a href='vscode-notebook-cell:/Users/alex/work/tracy/tracy/trail_mc.ipynb#ch0000001?line=0'>1</a>\u001b[0m mc\u001b[39m.\u001b[39;49mrun(\u001b[39m500\u001b[39;49m)\n",
      "File \u001b[0;32m~/opt/anaconda3/envs/work/lib/python3.9/site-packages/mchammer/ensembles/base_ensemble.py:223\u001b[0m, in \u001b[0;36mBaseEnsemble.run\u001b[0;34m(self, number_of_trial_steps)\u001b[0m\n\u001b[1;32m    <a href='file:///Users/alex/opt/anaconda3/envs/work/lib/python3.9/site-packages/mchammer/ensembles/base_ensemble.py?line=220'>221</a>\u001b[0m uninterrupted_steps \u001b[39m=\u001b[39m \u001b[39mmin\u001b[39m(\u001b[39mself\u001b[39m\u001b[39m.\u001b[39mobserver_interval, final_step \u001b[39m-\u001b[39m step)\n\u001b[1;32m    <a href='file:///Users/alex/opt/anaconda3/envs/work/lib/python3.9/site-packages/mchammer/ensembles/base_ensemble.py?line=221'>222</a>\u001b[0m \u001b[39mif\u001b[39;00m \u001b[39mself\u001b[39m\u001b[39m.\u001b[39mstep \u001b[39m%\u001b[39m \u001b[39mself\u001b[39m\u001b[39m.\u001b[39mobserver_interval \u001b[39m==\u001b[39m \u001b[39m0\u001b[39m:\n\u001b[0;32m--> <a href='file:///Users/alex/opt/anaconda3/envs/work/lib/python3.9/site-packages/mchammer/ensembles/base_ensemble.py?line=222'>223</a>\u001b[0m     \u001b[39mself\u001b[39;49m\u001b[39m.\u001b[39;49m_observe(\u001b[39mself\u001b[39;49m\u001b[39m.\u001b[39;49mstep)\n\u001b[1;32m    <a href='file:///Users/alex/opt/anaconda3/envs/work/lib/python3.9/site-packages/mchammer/ensembles/base_ensemble.py?line=223'>224</a>\u001b[0m \u001b[39mif\u001b[39;00m \u001b[39mself\u001b[39m\u001b[39m.\u001b[39m_data_container_filename \u001b[39mis\u001b[39;00m \u001b[39mnot\u001b[39;00m \u001b[39mNone\u001b[39;00m \u001b[39mand\u001b[39;00m \\\n\u001b[1;32m    <a href='file:///Users/alex/opt/anaconda3/envs/work/lib/python3.9/site-packages/mchammer/ensembles/base_ensemble.py?line=224'>225</a>\u001b[0m         time() \u001b[39m-\u001b[39m last_write_time \u001b[39m>\u001b[39m \u001b[39mself\u001b[39m\u001b[39m.\u001b[39m_data_container_write_period:\n\u001b[1;32m    <a href='file:///Users/alex/opt/anaconda3/envs/work/lib/python3.9/site-packages/mchammer/ensembles/base_ensemble.py?line=225'>226</a>\u001b[0m     \u001b[39mself\u001b[39m\u001b[39m.\u001b[39mwrite_data_container(\u001b[39mself\u001b[39m\u001b[39m.\u001b[39m_data_container_filename)\n",
      "File \u001b[0;32m~/opt/anaconda3/envs/work/lib/python3.9/site-packages/mchammer/ensembles/base_ensemble.py:288\u001b[0m, in \u001b[0;36mBaseEnsemble._observe\u001b[0;34m(self, step)\u001b[0m\n\u001b[1;32m    <a href='file:///Users/alex/opt/anaconda3/envs/work/lib/python3.9/site-packages/mchammer/ensembles/base_ensemble.py?line=285'>286</a>\u001b[0m                 row_dict[key] \u001b[39m=\u001b[39m val\n\u001b[1;32m    <a href='file:///Users/alex/opt/anaconda3/envs/work/lib/python3.9/site-packages/mchammer/ensembles/base_ensemble.py?line=286'>287</a>\u001b[0m         \u001b[39melse\u001b[39;00m:\n\u001b[0;32m--> <a href='file:///Users/alex/opt/anaconda3/envs/work/lib/python3.9/site-packages/mchammer/ensembles/base_ensemble.py?line=287'>288</a>\u001b[0m             row_dict[observer\u001b[39m.\u001b[39mtag] \u001b[39m=\u001b[39m observer\u001b[39m.\u001b[39;49mget_observable(\u001b[39mself\u001b[39;49m\u001b[39m.\u001b[39;49mconfiguration\u001b[39m.\u001b[39;49mstructure)\n\u001b[1;32m    <a href='file:///Users/alex/opt/anaconda3/envs/work/lib/python3.9/site-packages/mchammer/ensembles/base_ensemble.py?line=289'>290</a>\u001b[0m \u001b[39mif\u001b[39;00m \u001b[39mlen\u001b[39m(row_dict) \u001b[39m>\u001b[39m \u001b[39m0\u001b[39m:\n\u001b[1;32m    <a href='file:///Users/alex/opt/anaconda3/envs/work/lib/python3.9/site-packages/mchammer/ensembles/base_ensemble.py?line=290'>291</a>\u001b[0m     \u001b[39mself\u001b[39m\u001b[39m.\u001b[39m_data_container\u001b[39m.\u001b[39mappend(mctrial\u001b[39m=\u001b[39mstep, record\u001b[39m=\u001b[39mrow_dict)\n",
      "File \u001b[0;32m~/work/tracy/tracy/observers.py:69\u001b[0m, in \u001b[0;36mPercolationObserver.get_observable\u001b[0;34m(self, structure)\u001b[0m\n\u001b[1;32m     <a href='file:///Users/alex/work/tracy/tracy/observers.py?line=67'>68</a>\u001b[0m \u001b[39mdef\u001b[39;00m \u001b[39mget_observable\u001b[39m(\u001b[39mself\u001b[39m, structure: Atoms) \u001b[39m-\u001b[39m\u001b[39m>\u001b[39m \u001b[39mfloat\u001b[39m:\n\u001b[0;32m---> <a href='file:///Users/alex/work/tracy/tracy/observers.py?line=68'>69</a>\u001b[0m     \u001b[39mreturn\u001b[39;00m \u001b[39mself\u001b[39;49m\u001b[39m.\u001b[39;49mlenv\u001b[39m.\u001b[39;49mcount_percolation(structure)\n",
      "File \u001b[0;32m~/work/tracy/tracy/localenv.py:274\u001b[0m, in \u001b[0;36mPercolationTracker.count_percolation\u001b[0;34m(self, atoms)\u001b[0m\n\u001b[1;32m    <a href='file:///Users/alex/work/tracy/tracy/localenv.py?line=270'>271</a>\u001b[0m \u001b[39m# Check each tetrahedral sites\u001b[39;00m\n\u001b[1;32m    <a href='file:///Users/alex/work/tracy/tracy/localenv.py?line=271'>272</a>\u001b[0m \u001b[39mfor\u001b[39;00m site_index, link_indices \u001b[39min\u001b[39;00m tetra_sites\u001b[39m.\u001b[39mitems():\n\u001b[1;32m    <a href='file:///Users/alex/work/tracy/tracy/localenv.py?line=272'>273</a>\u001b[0m     \u001b[39m# Skip if not a 0-TM Channel\u001b[39;00m\n\u001b[0;32m--> <a href='file:///Users/alex/work/tracy/tracy/localenv.py?line=273'>274</a>\u001b[0m     \u001b[39mif\u001b[39;00m \u001b[39mnot\u001b[39;00m np\u001b[39m.\u001b[39mall(numbers[link_indices] \u001b[39m==\u001b[39m \u001b[39m3\u001b[39m):\n\u001b[1;32m    <a href='file:///Users/alex/work/tracy/tracy/localenv.py?line=274'>275</a>\u001b[0m         \u001b[39mcontinue\u001b[39;00m\n\u001b[1;32m    <a href='file:///Users/alex/work/tracy/tracy/localenv.py?line=275'>276</a>\u001b[0m     \u001b[39m# Add bonds between all possible combination of the sites\u001b[39;00m\n",
      "\u001b[0;31mIndexError\u001b[0m: index 1670 is out of bounds for axis 0 with size 432"
     ]
    }
   ],
   "source": [
    "mc.run(500)"
   ]
  },
  {
   "cell_type": "code",
   "execution_count": 5,
   "metadata": {},
   "outputs": [
    {
     "name": "stdout",
     "output_type": "stream",
     "text": [
      "OLiOMnOLiOLiOLiOLiOLiOLiOLiOLiOLiOMnOLiOLiOLiOLiOLiOLiOLiOMnOLiOLiOMnOMnOMnOLiOMnOLiOLiOLiOLiOLiOLiOMnOMnOMnOLiOMnOLiOLiOLiOLiOLiOMnOLiOLiOLiOLiOLiOLiOLiOMnOLiOLiOLiOLiOMnOMnOLiOLiOLiOMnOMnOLiOLiOLiOMnOLiOMnOMnOLiOMnOMnOLiOMnOLiOMnOLiOLiOMnOMnOLiOLiOLiOLiOMnOLiOLiOLiOLiOLiOLiOMnOLiOLiOMnOLiOMnOMnOMnOLiOLiOLiOLiOLiOLiOMnOLiOMnOLiOLiOLiOLiOLiOLiOLiOLiOLiOLiOMnOLiOMnOMnOLiOMnOLiOLiOLiOMnOLiOLiOLiOMnOMnOMnOLiOMnOMnOMnOMnOMnOLiOLiOLiOLiOLiOLiOMnOLiOLiOMnOLiOMnOLiOMnOMnOLiOMnOMnOLiOLiOLiOLiOLiOLiOLiOMnOMnOLiOLiOLiOMnOLiOMnOLiOMnOLiOMnOMnOMnOLiOMnOLiOLiOMnOLiOMnOLiOLiOLiOLiOLiOLiOMnOLiOMnOMnOMnOLiOMnOMnOLiOLiOLiOLiOLiOLiOLiOLiOLiOLiOLiOLiOLiOLiOMn\n"
     ]
    }
   ],
   "source": [
    "print(prim.symbols)"
   ]
  },
  {
   "cell_type": "code",
   "execution_count": 256,
   "metadata": {},
   "outputs": [
    {
     "name": "stdout",
     "output_type": "stream",
     "text": [
      "{54: {'bonded_to': [1, 5, 13, 37], 'n_TM': 0}, 55: {'bonded_to': [1, 3, 7, 19], 'n_TM': 1}, 56: {'bonded_to': [1, 3, 15, 39], 'n_TM': 1}, 57: {'bonded_to': [3, 5, 9, 21], 'n_TM': 1}, 58: {'bonded_to': [3, 5, 17, 41], 'n_TM': 1}, 59: {'bonded_to': [1, 5, 11, 23], 'n_TM': 0}, 60: {'bonded_to': [1, 7, 11, 43], 'n_TM': 0}, 61: {'bonded_to': [7, 9, 13, 25], 'n_TM': 0}, 62: {'bonded_to': [3, 7, 9, 45], 'n_TM': 1}, 63: {'bonded_to': [9, 11, 15, 27], 'n_TM': 0}, 64: {'bonded_to': [5, 9, 11, 47], 'n_TM': 0}, 65: {'bonded_to': [7, 11, 17, 29], 'n_TM': 0}, 66: {'bonded_to': [7, 13, 17, 49], 'n_TM': 0}, 67: {'bonded_to': [1, 13, 15, 31], 'n_TM': 0}, 68: {'bonded_to': [9, 13, 15, 51], 'n_TM': 0}, 69: {'bonded_to': [3, 15, 17, 33], 'n_TM': 1}, 70: {'bonded_to': [11, 15, 17, 53], 'n_TM': 0}, 71: {'bonded_to': [13, 5, 17, 35], 'n_TM': 0}, 72: {'bonded_to': [1, 19, 23, 31], 'n_TM': 0}, 73: {'bonded_to': [19, 21, 25, 37], 'n_TM': 0}, 74: {'bonded_to': [3, 19, 21, 33], 'n_TM': 1}, 75: {'bonded_to': [21, 23, 27, 39], 'n_TM': 0}, 76: {'bonded_to': [5, 21, 23, 35], 'n_TM': 0}, 77: {'bonded_to': [19, 23, 29, 41], 'n_TM': 0}, 78: {'bonded_to': [7, 19, 25, 29], 'n_TM': 0}, 79: {'bonded_to': [25, 27, 31, 43], 'n_TM': 0}, 80: {'bonded_to': [9, 21, 25, 27], 'n_TM': 0}, 81: {'bonded_to': [27, 29, 33, 45], 'n_TM': 0}, 82: {'bonded_to': [11, 23, 27, 29], 'n_TM': 0}, 83: {'bonded_to': [25, 29, 35, 47], 'n_TM': 0}, 84: {'bonded_to': [13, 25, 31, 35], 'n_TM': 0}, 85: {'bonded_to': [19, 31, 33, 49], 'n_TM': 0}, 86: {'bonded_to': [15, 27, 31, 33], 'n_TM': 0}, 87: {'bonded_to': [21, 33, 35, 51], 'n_TM': 0}, 88: {'bonded_to': [17, 29, 33, 35], 'n_TM': 0}, 89: {'bonded_to': [31, 23, 35, 53], 'n_TM': 0}, 90: {'bonded_to': [19, 37, 41, 49], 'n_TM': 0}, 91: {'bonded_to': [1, 37, 39, 43], 'n_TM': 0}, 92: {'bonded_to': [21, 37, 39, 51], 'n_TM': 0}, 93: {'bonded_to': [3, 39, 41, 45], 'n_TM': 1}, 94: {'bonded_to': [23, 39, 41, 53], 'n_TM': 0}, 95: {'bonded_to': [37, 5, 41, 47], 'n_TM': 0}, 96: {'bonded_to': [25, 37, 43, 47], 'n_TM': 0}, 97: {'bonded_to': [7, 43, 45, 49], 'n_TM': 0}, 98: {'bonded_to': [27, 39, 43, 45], 'n_TM': 0}, 99: {'bonded_to': [9, 45, 47, 51], 'n_TM': 0}, 100: {'bonded_to': [29, 41, 45, 47], 'n_TM': 0}, 101: {'bonded_to': [43, 11, 47, 53], 'n_TM': 0}, 102: {'bonded_to': [31, 43, 49, 53], 'n_TM': 0}, 103: {'bonded_to': [37, 13, 49, 51], 'n_TM': 0}, 104: {'bonded_to': [33, 45, 49, 51], 'n_TM': 0}, 105: {'bonded_to': [39, 15, 51, 53], 'n_TM': 0}, 106: {'bonded_to': [35, 47, 51, 53], 'n_TM': 0}, 107: {'bonded_to': [49, 41, 17, 53], 'n_TM': 0}}\n"
     ]
    }
   ],
   "source": [
    "from ase.io import read\n",
    "from ase.neighborlist import build_neighbor_list\n",
    "from collections import Counter\n",
    "\n",
    "structure = read(\"/Users/alex/Downloads/extended.xyz\")\n",
    "\n",
    "\n",
    "\n",
    "def build_tetra_centre_nn(atoms, bkg = [8,9], cutoff=2) -> list[int]:\n",
    "    \"\"\"\n",
    "    Build NN mapping for the surrounding tetrahedral sites\n",
    "\n",
    "    Args:\n",
    "        atoms (ase.Atoms): Input template Atoms\n",
    "\n",
    "    Returns:\n",
    "        a dictionary with keys being the indices of the cation site and values\n",
    "        being list of the neighbors.\n",
    "    \"\"\"\n",
    "\n",
    "    extended_atoms = atoms\n",
    "\n",
    "    cutoffs = [\n",
    "        0.01 if atom.symbol in bkg else cutoff / 2 for atom in atoms\n",
    "    ]\n",
    "    # Build the NN list for the extended atoms\n",
    "    nlist = build_neighbor_list(extended_atoms, cutoffs=cutoffs, bothways=True)\n",
    "\n",
    "    int_sites = [i for i in structure if i.symbol == \"X\"]\n",
    "\n",
    "    tetra_sites = {atom.index : {} for atom in int_sites}\n",
    "    numbers = extended_atoms.numbers\n",
    "    for atom in int_sites:\n",
    "        nnlist = nlist.get_neighbors(atom.index)[0].tolist()\n",
    "        only_cation = []\n",
    "        for nidx in nnlist:\n",
    "            # Add the index of the atoms if it satisfy the condition\n",
    "            if (\n",
    "                numbers[nidx]\n",
    "                not in bkg  # Not a background ion\n",
    "                and nidx != atom.index  # Not myself\n",
    "                and extended_atoms.get_distance(nidx, atom.index, mic=True)\n",
    "                < cutoff\n",
    "            ):  # Lower than the cut off\n",
    "                only_cation.append(nidx)\n",
    "            # Use the position vector of the tetrahedral site as the key for the dictionary\n",
    "        tetra_tm = len([atoms[i].number for i in only_cation if i == 3])\n",
    "        tetra_sites[atom.index][\"bonded_to\"] = only_cation\n",
    "        tetra_sites[atom.index][\"n_TM\"] = tetra_tm\n",
    "\n",
    "    return tetra_sites\n",
    "\n",
    "a = build_tetra_centre_nn(structure)\n",
    "\n"
   ]
  },
  {
   "cell_type": "code",
   "execution_count": 199,
   "metadata": {},
   "outputs": [
    {
     "data": {
      "image/png": "[encoded data removed]",
      "text/plain": [
       "<Figure size 432x288 with 1 Axes>"
      ]
     },
     "metadata": {},
     "output_type": "display_data"
    }
   ],
   "source": [
    "import matplotlib.pyplot as plt\n",
    "nx.draw_networkx(G, with_labels=False, node_size = 50)\n",
    "plt.show()"
   ]
  },
  {
   "cell_type": "code",
   "execution_count": 202,
   "metadata": {},
   "outputs": [
    {
     "name": "stdout",
     "output_type": "stream",
     "text": [
      "[1, 33, 65, 101, 69, 73, 9, 77, 13, 45, 17, 49, 53, 89, 57]\n"
     ]
    },
    {
     "data": {
      "text/plain": [
       "False"
      ]
     },
     "execution_count": 202,
     "metadata": {},
     "output_type": "execute_result"
    },
    {
     "data": {
      "image/png": "[encoded data removed]",
      "text/plain": [
       "<Figure size 432x288 with 1 Axes>"
      ]
     },
     "metadata": {},
     "output_type": "display_data"
    }
   ],
   "source": [
    "SG = G.subgraph([n for n in G.nodes if G.nodes[n][\"n_TM\"] == \"Li\" or G.nodes[n][\"n_TM\"] == 0])\n",
    "nx.draw_networkx(SG, with_labels=False, node_size = 50)\n",
    "\n",
    "print([node for node in SG.nodes if SG.nodes[node][\"n_TM\"] == \"Li\"])\n",
    "nx.has_path(SG, 1, 9)"
   ]
  },
  {
   "cell_type": "code",
   "execution_count": 206,
   "metadata": {},
   "outputs": [
    {
     "name": "stdout",
     "output_type": "stream",
     "text": [
      "{1}\n",
      "{89, 65, 33, 69, 70, 53, 55, 57}\n",
      "{101}\n",
      "{73}\n",
      "{9}\n",
      "{77}\n",
      "{13}\n",
      "{45}\n",
      "{17}\n",
      "{49}\n"
     ]
    }
   ],
   "source": [
    "for i in nx.connected_components(SG):\n",
    "    print(i)"
   ]
  },
  {
   "cell_type": "code",
   "execution_count": 248,
   "metadata": {},
   "outputs": [
    {
     "name": "stdout",
     "output_type": "stream",
     "text": [
      "{0: 432, 1: 433, 2: 434, 3: 435, 4: 436, 5: 437, 6: 438, 7: 439, 8: 440, 9: 441, 10: 442, 11: 443, 12: 444, 13: 445, 14: 446, 15: 447, 16: 448, 17: 449, 18: 450, 19: 451, 20: 452, 21: 453, 22: 454, 23: 455, 24: 456, 25: 457, 26: 458, 27: 459, 28: 460, 29: 461, 30: 462, 31: 463, 32: 464, 33: 465, 34: 466, 35: 467, 36: 468, 37: 469, 38: 470, 39: 471, 40: 472, 41: 473, 42: 474, 43: 475, 44: 476, 45: 477, 46: 478, 47: 479, 48: 480, 49: 481, 50: 482, 51: 483, 52: 484, 53: 485, 54: 486, 55: 487, 56: 488, 57: 489, 58: 490, 59: 491, 60: 492, 61: 493, 62: 494, 63: 495, 64: 496, 65: 497, 66: 498, 67: 499, 68: 500, 69: 501, 70: 502, 71: 503, 72: 504, 73: 505, 74: 506, 75: 507, 76: 508, 77: 509, 78: 510, 79: 511, 80: 512, 81: 513, 82: 514, 83: 515, 84: 516, 85: 517, 86: 518, 87: 519, 88: 520, 89: 521, 90: 522, 91: 523, 92: 524, 93: 525, 94: 526, 95: 527, 96: 528, 97: 529, 98: 530, 99: 531, 100: 532, 101: 533, 102: 534, 103: 535, 104: 536, 105: 537, 106: 538, 107: 539}\n"
     ]
    }
   ],
   "source": [
    "structure\n",
    "graph = nx.MultiDiGraph()\n",
    "graph.add_nodes_from(range(len(structure)))\n",
    "\n",
    "new_structure = structure.repeat(2)\n",
    "mapping = {n : n + len(new_structure) for n in range(len(tet_structure))}\n",
    "\n",
    "print(mapping)\n",
    "# graph.nodes\n",
    "# nx.readwrite.json_graph.adjacency_data(graph)\n",
    "\n",
    "# def add_edge(u, v, j_u, j_v):\n",
    "#     if u < v:\n",
    "#         u , v = v, u\n",
    "#         j_u, j_v = j_v, j_u\n",
    "    \n",
    "#     if not np.array_equal(j_v, [0,0,0]):\n",
    "#         shift = j_v\n",
    "#         j_v = np.subtract(j_v, shift)\n",
    "#         j_u = np.add(j_u, shift)\n"
   ]
  },
  {
   "cell_type": "code",
   "execution_count": 250,
   "metadata": {},
   "outputs": [
    {
     "ename": "NetworkXError",
     "evalue": "('The node sets of the graphs are not disjoint.', 'Use appropriate rename=(G1prefix,G2prefix,...,GNprefix)or use disjoint_union(G1,G2,...,GN).')",
     "output_type": "error",
     "traceback": [
      "\u001b[0;31m---------------------------------------------------------------------------\u001b[0m",
      "\u001b[0;31mNetworkXError\u001b[0m                             Traceback (most recent call last)",
      "\u001b[1;32m/Users/alex/work/tracy/tracy/trail_mc.ipynb Cell 9'\u001b[0m in \u001b[0;36m<cell line: 11>\u001b[0;34m()\u001b[0m\n\u001b[1;32m      <a href='vscode-notebook-cell:/Users/alex/work/tracy/tracy/trail_mc.ipynb#ch0000008?line=7'>8</a>\u001b[0m     new_sites\u001b[39m.\u001b[39mappend(p)\n\u001b[1;32m      <a href='vscode-notebook-cell:/Users/alex/work/tracy/tracy/trail_mc.ipynb#ch0000008?line=8'>9</a>\u001b[0m     new_graphs\u001b[39m.\u001b[39mappend(nx\u001b[39m.\u001b[39mrelabel_nodes(G, mapping, copy\u001b[39m=\u001b[39m\u001b[39mTrue\u001b[39;00m))\n\u001b[0;32m---> <a href='vscode-notebook-cell:/Users/alex/work/tracy/tracy/trail_mc.ipynb#ch0000008?line=10'>11</a>\u001b[0m nx\u001b[39m.\u001b[39;49munion_all(new_graphs \u001b[39m+\u001b[39;49m [graph])\n",
      "File \u001b[0;32m~/opt/anaconda3/envs/work/lib/python3.9/site-packages/networkx/algorithms/operators/all.py:75\u001b[0m, in \u001b[0;36munion_all\u001b[0;34m(graphs, rename)\u001b[0m\n\u001b[1;32m     <a href='file:///Users/alex/opt/anaconda3/envs/work/lib/python3.9/site-packages/networkx/algorithms/operators/all.py?line=71'>72</a>\u001b[0m graphs \u001b[39m=\u001b[39m [add_prefix(G, name) \u001b[39mfor\u001b[39;00m G, name \u001b[39min\u001b[39;00m zip_longest(graphs, rename)]\n\u001b[1;32m     <a href='file:///Users/alex/opt/anaconda3/envs/work/lib/python3.9/site-packages/networkx/algorithms/operators/all.py?line=73'>74</a>\u001b[0m \u001b[39mif\u001b[39;00m \u001b[39msum\u001b[39m(\u001b[39mlen\u001b[39m(G) \u001b[39mfor\u001b[39;00m G \u001b[39min\u001b[39;00m graphs) \u001b[39m!=\u001b[39m \u001b[39mlen\u001b[39m(\u001b[39mset\u001b[39m()\u001b[39m.\u001b[39munion(\u001b[39m*\u001b[39mgraphs)):\n\u001b[0;32m---> <a href='file:///Users/alex/opt/anaconda3/envs/work/lib/python3.9/site-packages/networkx/algorithms/operators/all.py?line=74'>75</a>\u001b[0m     \u001b[39mraise\u001b[39;00m nx\u001b[39m.\u001b[39mNetworkXError(\n\u001b[1;32m     <a href='file:///Users/alex/opt/anaconda3/envs/work/lib/python3.9/site-packages/networkx/algorithms/operators/all.py?line=75'>76</a>\u001b[0m         \u001b[39m\"\u001b[39m\u001b[39mThe node sets of the graphs are not disjoint.\u001b[39m\u001b[39m\"\u001b[39m,\n\u001b[1;32m     <a href='file:///Users/alex/opt/anaconda3/envs/work/lib/python3.9/site-packages/networkx/algorithms/operators/all.py?line=76'>77</a>\u001b[0m         \u001b[39m\"\u001b[39m\u001b[39mUse appropriate rename\u001b[39m\u001b[39m\"\u001b[39m\n\u001b[1;32m     <a href='file:///Users/alex/opt/anaconda3/envs/work/lib/python3.9/site-packages/networkx/algorithms/operators/all.py?line=77'>78</a>\u001b[0m         \u001b[39m\"\u001b[39m\u001b[39m=(G1prefix,G2prefix,...,GNprefix)\u001b[39m\u001b[39m\"\u001b[39m\n\u001b[1;32m     <a href='file:///Users/alex/opt/anaconda3/envs/work/lib/python3.9/site-packages/networkx/algorithms/operators/all.py?line=78'>79</a>\u001b[0m         \u001b[39m\"\u001b[39m\u001b[39mor use disjoint_union(G1,G2,...,GN).\u001b[39m\u001b[39m\"\u001b[39m,\n\u001b[1;32m     <a href='file:///Users/alex/opt/anaconda3/envs/work/lib/python3.9/site-packages/networkx/algorithms/operators/all.py?line=79'>80</a>\u001b[0m     )\n\u001b[1;32m     <a href='file:///Users/alex/opt/anaconda3/envs/work/lib/python3.9/site-packages/networkx/algorithms/operators/all.py?line=81'>82</a>\u001b[0m \u001b[39m# Union is the same type as first graph\u001b[39;00m\n\u001b[1;32m     <a href='file:///Users/alex/opt/anaconda3/envs/work/lib/python3.9/site-packages/networkx/algorithms/operators/all.py?line=82'>83</a>\u001b[0m R \u001b[39m=\u001b[39m U\u001b[39m.\u001b[39m\u001b[39m__class__\u001b[39m()\n",
      "\u001b[0;31mNetworkXError\u001b[0m: ('The node sets of the graphs are not disjoint.', 'Use appropriate rename=(G1prefix,G2prefix,...,GNprefix)or use disjoint_union(G1,G2,...,GN).')"
     ]
    }
   ],
   "source": [
    "\n",
    "\n",
    "structure.repeat(2)\n",
    "pos = [p for p in structure.get_positions()]\n",
    "\n",
    "new_sites = []\n",
    "new_graphs = []\n",
    "for p in pos:\n",
    "    mapping = {n : n + len(new_sites) for n in range(len(tet_structure))}\n",
    "    new_sites.append(p)\n",
    "    new_graphs.append(nx.relabel_nodes(G, mapping, copy=True))\n",
    "\n",
    "nx.union_all(new_graphs + [graph])"
   ]
  },
  {
   "cell_type": "code",
   "execution_count": 252,
   "metadata": {},
   "outputs": [
    {
     "data": {
      "text/plain": [
       "{0: 53,\n",
       " 1: 54,\n",
       " 2: 55,\n",
       " 3: 56,\n",
       " 4: 57,\n",
       " 5: 58,\n",
       " 6: 59,\n",
       " 7: 60,\n",
       " 8: 61,\n",
       " 9: 62,\n",
       " 10: 63,\n",
       " 11: 64,\n",
       " 12: 65,\n",
       " 13: 66,\n",
       " 14: 67,\n",
       " 15: 68,\n",
       " 16: 69,\n",
       " 17: 70,\n",
       " 18: 71,\n",
       " 19: 72,\n",
       " 20: 73,\n",
       " 21: 74,\n",
       " 22: 75,\n",
       " 23: 76,\n",
       " 24: 77,\n",
       " 25: 78,\n",
       " 26: 79,\n",
       " 27: 80,\n",
       " 28: 81,\n",
       " 29: 82,\n",
       " 30: 83,\n",
       " 31: 84,\n",
       " 32: 85,\n",
       " 33: 86,\n",
       " 34: 87,\n",
       " 35: 88,\n",
       " 36: 89,\n",
       " 37: 90,\n",
       " 38: 91,\n",
       " 39: 92,\n",
       " 40: 93,\n",
       " 41: 94,\n",
       " 42: 95,\n",
       " 43: 96,\n",
       " 44: 97,\n",
       " 45: 98,\n",
       " 46: 99,\n",
       " 47: 100,\n",
       " 48: 101,\n",
       " 49: 102,\n",
       " 50: 103,\n",
       " 51: 104,\n",
       " 52: 105,\n",
       " 53: 106,\n",
       " 54: 107,\n",
       " 55: 108,\n",
       " 56: 109,\n",
       " 57: 110,\n",
       " 58: 111,\n",
       " 59: 112,\n",
       " 60: 113,\n",
       " 61: 114,\n",
       " 62: 115,\n",
       " 63: 116,\n",
       " 64: 117,\n",
       " 65: 118,\n",
       " 66: 119,\n",
       " 67: 120,\n",
       " 68: 121,\n",
       " 69: 122,\n",
       " 70: 123,\n",
       " 71: 124,\n",
       " 72: 125,\n",
       " 73: 126,\n",
       " 74: 127,\n",
       " 75: 128,\n",
       " 76: 129,\n",
       " 77: 130,\n",
       " 78: 131,\n",
       " 79: 132,\n",
       " 80: 133,\n",
       " 81: 134,\n",
       " 82: 135,\n",
       " 83: 136,\n",
       " 84: 137,\n",
       " 85: 138,\n",
       " 86: 139,\n",
       " 87: 140,\n",
       " 88: 141,\n",
       " 89: 142,\n",
       " 90: 143,\n",
       " 91: 144,\n",
       " 92: 145,\n",
       " 93: 146,\n",
       " 94: 147,\n",
       " 95: 148,\n",
       " 96: 149,\n",
       " 97: 150,\n",
       " 98: 151,\n",
       " 99: 152,\n",
       " 100: 153,\n",
       " 101: 154,\n",
       " 102: 155,\n",
       " 103: 156,\n",
       " 104: 157,\n",
       " 105: 158,\n",
       " 106: 159,\n",
       " 107: 160}"
      ]
     },
     "execution_count": 252,
     "metadata": {},
     "output_type": "execute_result"
    }
   ],
   "source": [
    "mapping"
   ]
  },
  {
   "cell_type": "code",
   "execution_count": 253,
   "metadata": {},
   "outputs": [
    {
     "data": {
      "text/plain": [
       "432"
      ]
     },
     "execution_count": 253,
     "metadata": {},
     "output_type": "execute_result"
    }
   ],
   "source": [
    "54*2*2*2"
   ]
  },
  {
   "cell_type": "code",
   "execution_count": null,
   "metadata": {},
   "outputs": [],
   "source": []
  }
 ],
 "metadata": {
  "interpreter": {
   "hash": "89b753ff356a3aee657d5b1e355d20c7c6c68a1d22ccd5ebcf062a6c2a010345"
  },
  "kernelspec": {
   "display_name": "Python 3.9.10 ('work')",
   "language": "python",
   "name": "python3"
  },
  "language_info": {
   "codemirror_mode": {
    "name": "ipython",
    "version": 3
   },
   "file_extension": ".py",
   "mimetype": "text/x-python",
   "name": "python",
   "nbconvert_exporter": "python",
   "pygments_lexer": "ipython3",
   "version": "3.9.10"
  },
  "orig_nbformat": 4
 },
 "nbformat": 4,
 "nbformat_minor": 2
}
